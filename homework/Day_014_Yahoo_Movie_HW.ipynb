{
 "cells": [
  {
   "cell_type": "markdown",
   "metadata": {},
   "source": [
    "# YAHOO電影爬蟲練習\n",
    "## 練習爬取電影放映資訊。必須逐步獲取電影的代號、放映地區、放映日期後，再送出查詢給伺服器。"
   ]
  },
  {
   "cell_type": "code",
   "execution_count": 1,
   "metadata": {},
   "outputs": [],
   "source": [
    "import requests\n",
    "import re\n",
    "from bs4 import BeautifulSoup"
   ]
  },
  {
   "cell_type": "markdown",
   "metadata": {},
   "source": [
    "### 先搜尋全部的電影代號(ID)資訊"
   ]
  },
  {
   "cell_type": "code",
   "execution_count": 19,
   "metadata": {},
   "outputs": [
    {
     "name": "stdout",
     "output_type": "stream",
     "text": [
      "Movie: 電影版 地獄少女, ID: 10525\n",
      "Movie: 刺激1995, ID: 10518\n",
      "Movie: 通靈少年2020, ID: 10517\n",
      "Movie: 安雅的回家路, ID: 10516\n",
      "Movie: 牆內的房客, ID: 10512\n",
      "Movie: 南山的部長們, ID: 10509\n",
      "Movie: 另類神父, ID: 10500\n",
      "Movie: 破．局, ID: 10496\n",
      "Movie: 劇場版 不起眼女主角培育法 Fine, ID: 10486\n",
      "Movie: 複製柔伊, ID: 10455\n",
      "Movie: 練愛iNG, ID: 10442\n",
      "Movie: 鋼鐵勳章, ID: 10432\n",
      "Movie: 我，最親愛的, ID: 10503\n",
      "Movie: 血衛, ID: 10469\n",
      "Movie: 導演先生的完美假期, ID: 10545\n",
      "Movie: 大地蜜語, ID: 10513\n",
      "Movie: 狂飆一夢, ID: 10506\n",
      "Movie: 親愛的莎瑪, ID: 10491\n",
      "Movie: 大畫特務, ID: 10478\n",
      "Movie: 戰慄糖果屋, ID: 10472\n",
      "Movie: 失戀殺人：三角禁戀, ID: 10465\n",
      "Movie: 明明會說話, ID: 10440\n",
      "Movie: 艾瑪, ID: 10396\n",
      "Movie: 罪樂園, ID: 10349\n",
      "Movie: 鳴鳥不飛：烏雲密布, ID: 10458\n",
      "Movie: 哥布林殺手 劇場版, ID: 10438\n",
      "Movie: 女鬼橋, ID: 10437\n",
      "Movie: 怨咒, ID: 10421\n",
      "Movie: 娘娘腔日記, ID: 10401\n",
      "Movie: 極地守護犬, ID: 10383\n",
      "Movie: 叔．叔, ID: 10371\n",
      "Movie: 隱形人, ID: 10359\n",
      "Movie: 電影音效傳奇：好萊塢之聲, ID: 10484\n",
      "Movie: 悲慘世界, ID: 10479\n",
      "Movie: 閃閃小超人電影版, ID: 10474\n",
      "Movie: 陰櫥, ID: 10457\n",
      "Movie: 絕命大平台, ID: 10447\n",
      "Movie: 李察朱威爾事件, ID: 10368\n",
      "Movie: 音速小子, ID: 9246\n",
      "Movie: 逃出夢幻島, ID: 10485\n",
      "Movie: 超＂人＂氣動物園, ID: 10445\n",
      "Movie: 就愛斷捨離, ID: 10436\n",
      "Movie: 猛禽小隊：小丑女大解放, ID: 10268\n",
      "Movie: 紅鞋公主與七矮人, ID: 10417\n",
      "Movie: 1917, ID: 10189\n",
      "Movie: 你的情歌, ID: 10407\n",
      "Movie: 紳士追殺令, ID: 10317\n",
      "Movie: 她們, ID: 10202\n",
      "Movie: 巧虎電影：英雄遊樂園, ID: 10429\n",
      "Movie: 寄生上流, ID: 10020\n"
     ]
    }
   ],
   "source": [
    "# 查看目前上映那些電影，並擷取出其ID資訊\n",
    "url = 'https://movies.yahoo.com.tw/'\n",
    "resp = requests.get(url)\n",
    "resp.encoding = 'utf-8'\n",
    "\n",
    "soup = BeautifulSoup(resp.text, 'lxml')\n",
    "html = soup.find(\"select\", attrs={'name':'movie_id'})\n",
    "#print(soup)\n",
    "movie_item = html.find_all(\"option\", attrs={'data-name':re.compile('.*')})\n",
    "\n",
    "for p in movie_item:\n",
    "    print(\"Movie: %s, ID: %s\" % (p[\"data-name\"], p[\"value\"]))"
   ]
  },
  {
   "cell_type": "markdown",
   "metadata": {},
   "source": [
    "### 指定你有興趣的電影其ID，然後查詢其放映地區資訊。"
   ]
  },
  {
   "cell_type": "code",
   "execution_count": 20,
   "metadata": {},
   "outputs": [],
   "source": [
    "# 參考前一個步驟中擷取到的ID資訊，並指定ID\n",
    "movie_id = 10525"
   ]
  },
  {
   "cell_type": "code",
   "execution_count": 21,
   "metadata": {},
   "outputs": [
    {
     "name": "stdout",
     "output_type": "stream",
     "text": [
      "放映地區: 台北市, 代號(area_id): 28\n",
      "放映地區: 桃園, 代號(area_id): 16\n",
      "放映地區: 新竹, 代號(area_id): 20\n",
      "放映地區: 台中, 代號(area_id): 2\n",
      "放映地區: 台南, 代號(area_id): 10\n",
      "放映地區: 高雄, 代號(area_id): 17\n"
     ]
    }
   ],
   "source": [
    "url = 'https://movies.yahoo.com.tw/api/v1/areas_by_movie_theater'\n",
    "payload = {'movie_id':str(movie_id)}\n",
    "\n",
    "# 模擬一個header\n",
    "headers = {\n",
    "    'authority': 'movies.yahoo.com.tw',\n",
    "    'method': 'GET',\n",
    "    'path': '/api/v1/areas_by_movie_theater?movie_id=' + str(movie_id),\n",
    "    'scheme': 'https',\n",
    "    'accept': 'application/json, text/javascript, */*; q=0.01',\n",
    "    'accept-encoding': 'gzip, deflate, br',\n",
    "    'accept-language': 'zh-TW,zh;q=0.9,en-US;q=0.8,en;q=0.7,zh-CN;q=0.6',\n",
    "    'cookie': 'rxx=9s3x2fws06.1g16irnc&v=1; _ga=GA1.3.2056742944.1551651301; GUC=AQEBAQFczFpdm0IfmwSB&s=AQAAACoo4N5D&g=XMsVBw; BX=4hkdk1decm57t&b=3&s=mr; _ga=GA1.4.2056742944.1551651301; nexagesuid=82843256dd234e8e91aa73f2062f8218; browsed_movie=eyJpdiI6IlJXWWtiSWJaZlNGK2MxQnhscnVUYWc9PSIsInZhbHVlIjoiMXRhMmVHRXRIeUNjc1RBWDJzdGYwbnlIQURmWGsrcjJSMzhkbkcraDNJVUNIZEZsbzU3amlFcVZ1NzlmazJrTGpoMjVrbHk1YmpoRENXaHZTOUw1TmI2ZTZVWHdOejZQZm16RmVuMWlHTTJLaTZLVFZZVkFOMDlTd1wvSGltcytJIiwibWFjIjoiZWQ2ZjA4MmVjZmZlYjlmNjJmYmY2NGMyMDI0Njc0NWViYjVkOWE2NDg0N2RhODMxZjBjZDhiMmJhZTc2MDZhYiJ9; avi=eyJpdiI6Im1NeWFJRlVRWDR1endEcGRGUGJUbVE9PSIsInZhbHVlIjoickRpU3JuUytmcGl6cjF5OW0rNU9iZz09IiwibWFjIjoiY2VmY2NkNzZmM2NhNjY5YzlkOTcyNjE5OGEyMzU0NWYxOTdmMDRkMDY3OWNmMmZjOTMxYjc5MjI5N2Q5NGE5MiJ9; cmp=t=1559391030&j=0; _gid=GA1.4.779543841.1559391031; XSRF-TOKEN=eyJpdiI6IkhpS2hGcDRQaHlmWUJmaHdSS2Q2bHc9PSIsInZhbHVlIjoiOUVoNFk4OHI1UUZmUWRtYXhza0MyWjJSTlhlZ3RnT0VGeVJPN2JuczVRMGRFdWt2OUlsamVKeHRobFwvcHBGM0dhU3VyMXNGTHlsb2dVM2l0U1hpUGxBPT0iLCJtYWMiOiJkZWU4YzJhNjAxMTY3MzE4Y2ExNWIxYmE1ZjE1YWZlZTlhOTcyYjc4M2RlZGY4ZWNjZDYyMTA2NGYwZGViMzc2In0%3D; m_s=eyJpdiI6InpsZHZ2Tk1BZ0dxaHhETml1RjBnUXc9PSIsInZhbHVlIjoiSkNGeHUranRoXC85bDFiaDhySTJqNkJRcWdjWUxjeVRJSHVYZ1wvd2d4bWJZUTUrSHVDM0lUcW5KNHdETFZ4T1lieU81OUhzc1VoUXhZcWk0UDZSQXVFdz09IiwibWFjIjoiYmJkMDJkMDhlODIzMzcyMWY4M2NmYWNjNGVlOWRjMDIwZmVmNzAyMjE3Yzg3ZGY3ODBkZWEzZTI4MTI5ZWNmOSJ9; _gat=1; nexagesd=10',\n",
    "    'dnt': '1',\n",
    "    'mv-authorization': '21835b082e15b91a69b3851eec7b31b82ce82afb',\n",
    "    'referer': 'https://movies.yahoo.com.tw/',\n",
    "    'user-agent': 'Mozilla/5.0 (Windows NT 10.0; Win64; x64) AppleWebKit/537.36 (KHTML, like Gecko) Chrome/74.0.3729.169 Safari/537.36',\n",
    "    'x-requested-with': 'XMLHttpRequest',\n",
    "}\n",
    "    \n",
    "resp = requests.get(url, params=payload, headers=headers)\n",
    "#print(resp.json())  # 若有需要，列印出json原始碼\n",
    "\n",
    "# 這裡回傳的格式是JSON格式的資料，要解析JSON擷取資料\n",
    "for p in resp.json():\n",
    "    print('放映地區: {0}, 代號(area_id): {1}'.format(p['title'], p['area_id']))"
   ]
  },
  {
   "cell_type": "markdown",
   "metadata": {},
   "source": [
    "### 指定你想要觀看的放映地區，查詢有上映電影的場次日期"
   ]
  },
  {
   "cell_type": "code",
   "execution_count": 8,
   "metadata": {},
   "outputs": [],
   "source": [
    "# 指定放映地區\n",
    "area_id = 28"
   ]
  },
  {
   "cell_type": "code",
   "execution_count": 23,
   "metadata": {},
   "outputs": [
    {
     "name": "stdout",
     "output_type": "stream",
     "text": [
      "三月 15\n",
      "三月 16\n",
      "三月 17\n",
      "三月 18\n",
      "三月 19\n"
     ]
    }
   ],
   "source": [
    "# 向網站發送請求\n",
    "url = 'https://movies.yahoo.com.tw/movietime_result.html'\n",
    "payload = {'movie_id':str(movie_id), 'area_id':str(area_id)}\n",
    "resp = requests.get(url, params=payload)\n",
    "resp.encoding = 'utf-8'\n",
    "\n",
    "soup = BeautifulSoup(resp.text, 'lxml')\n",
    "movie_date = soup.find_all(\"label\", attrs={'for':re.compile(\"date_[\\d]\")})\n",
    "\n",
    "# 列印播放日期\n",
    "for date in movie_date:\n",
    "    print(\"%s %s\" % (date.p.string, date.h3.string))"
   ]
  },
  {
   "cell_type": "markdown",
   "metadata": {},
   "source": [
    "### 最後指定觀看的日期，查詢並列印出放映的電影院、放映類型(數位、3D、IMAX 3D...)、放映時間等資訊。"
   ]
  },
  {
   "cell_type": "code",
   "execution_count": 28,
   "metadata": {},
   "outputs": [],
   "source": [
    "# 選定要觀看的日期\n",
    "date = \"2020-03-16\""
   ]
  },
  {
   "cell_type": "code",
   "execution_count": 31,
   "metadata": {},
   "outputs": [
    {
     "name": "stdout",
     "output_type": "stream",
     "text": [
      "[<ul class=\"area_time _c jq_area_time\" data-theater_name=\"台北樂聲影城\" data-theater_schedules=\"https://movies.yahoo.com.tw/theater_result.html/id=38\" data-theater_url=\"http://www.luxcinema.com.tw/\" id=\"theater_id_38\">\n",
      "<li class=\"adds\">\n",
      "<a href=\"https://movies.yahoo.com.tw/theater_result.html/id=38\">台北樂聲影城</a>\n",
      "<span>02-23118628</span>\n",
      "</li>\n",
      "<li class=\"taps\">\n",
      "<span class=\"tapR\">數位</span> </li>\n",
      "<li class=\"time _c\">\n",
      "<div class=\"input_picker jq_input_picker\">\n",
      "<input class=\"gabtn\" data-cinema=\"46efa950eafa11e38b12987bdb90dba4\" data-date=\"1584288000\" data-ezding=\"ezding\" data-ga=\"['電影頁_時刻表', '電影頁_時刻表_場次', '電影版 地獄少女']\" data-movie=\"1246ab4bbd754900b62c33e0bee44816\" data-movie_date=\"03.16\" data-movie_time=\"16:15\" data-movie_title=\"電影版 地獄少女\" data-movie_type=\"數位\" data-session=\"fcc2a0e532fe4d77b240767fa305f8db\" data-time=\"1584346500\" id=\"73343892\" name=\"schedule_list\" type=\"radio\" value=\"2020-03-16 16:15:00\"/>\n",
      "<label class=\"select\" for=\"73343892\">16:15</label>\n",
      "<input class=\"gabtn\" data-cinema=\"46efa950eafa11e38b12987bdb90dba4\" data-date=\"1584288000\" data-ezding=\"ezding\" data-ga=\"['電影頁_時刻表', '電影頁_時刻表_場次', '電影版 地獄少女']\" data-movie=\"1246ab4bbd754900b62c33e0bee44816\" data-movie_date=\"03.16\" data-movie_time=\"20:15\" data-movie_title=\"電影版 地獄少女\" data-movie_type=\"數位\" data-session=\"948c0dc93b3647c4a7f8681088bf84f1\" data-time=\"1584360900\" id=\"73343893\" name=\"schedule_list\" type=\"radio\" value=\"2020-03-16 20:15:00\"/>\n",
      "<label class=\"select\" for=\"73343893\">20:15</label>\n",
      "<input class=\"gabtn\" data-cinema=\"46efa950eafa11e38b12987bdb90dba4\" data-date=\"1584288000\" data-ezding=\"ezding\" data-ga=\"['電影頁_時刻表', '電影頁_時刻表_場次', '電影版 地獄少女']\" data-movie=\"1246ab4bbd754900b62c33e0bee44816\" data-movie_date=\"03.16\" data-movie_time=\"22:25\" data-movie_title=\"電影版 地獄少女\" data-movie_type=\"數位\" data-session=\"d50bdca13c2e42bcb8d3a8b2ff8a0136\" data-time=\"1584368700\" id=\"73343894\" name=\"schedule_list\" type=\"radio\" value=\"2020-03-16 22:25:00\"/>\n",
      "<label class=\"select\" for=\"73343894\">22:25</label>\n",
      "</div>\n",
      "</li>\n",
      "</ul>, <ul class=\"area_time _c jq_area_time\" data-theater_name=\"喜滿客絕色影城\" data-theater_schedules=\"https://movies.yahoo.com.tw/theater_result.html/id=42\" data-theater_url=\"http://www.cinema7.com.tw/\" id=\"theater_id_42\">\n",
      "<li class=\"adds\">\n",
      "<a href=\"https://movies.yahoo.com.tw/theater_result.html/id=42\">喜滿客絕色影城</a>\n",
      "<span>02-23811339</span>\n",
      "</li>\n",
      "<li class=\"taps\">\n",
      "<span class=\"tapR\">數位</span> </li>\n",
      "<li class=\"time _c\">\n",
      "<div class=\"input_picker jq_input_picker\">\n",
      "<input class=\"gabtn\" data-cinema=\"40288eb0050f542401050f55532606b5\" data-date=\"1584288000\" data-ezding=\"ezding\" data-ga=\"['電影頁_時刻表', '電影頁_時刻表_場次', '電影版 地獄少女']\" data-movie=\"c028906b4b334575b46bd4a4aaef6c7b\" data-movie_date=\"03.16\" data-movie_time=\"11:00\" data-movie_title=\"電影版 地獄少女\" data-movie_type=\"數位\" data-session=\"26a18e2c496e4ef392e8a24e40f4faf8\" data-time=\"1584327600\" id=\"73344249\" name=\"schedule_list\" type=\"radio\" value=\"2020-03-16 11:00:00\"/>\n",
      "<label class=\"select\" for=\"73344249\">11:00</label>\n",
      "<input class=\"gabtn\" data-cinema=\"40288eb0050f542401050f55532606b5\" data-date=\"1584288000\" data-ezding=\"ezding\" data-ga=\"['電影頁_時刻表', '電影頁_時刻表_場次', '電影版 地獄少女']\" data-movie=\"c028906b4b334575b46bd4a4aaef6c7b\" data-movie_date=\"03.16\" data-movie_time=\"15:10\" data-movie_title=\"電影版 地獄少女\" data-movie_type=\"數位\" data-session=\"f9d36cdff8784a9aba5b3e9063043f59\" data-time=\"1584342600\" id=\"73344250\" name=\"schedule_list\" type=\"radio\" value=\"2020-03-16 15:10:00\"/>\n",
      "<label class=\"select\" for=\"73344250\">15:10</label>\n",
      "<input class=\"gabtn\" data-cinema=\"40288eb0050f542401050f55532606b5\" data-date=\"1584288000\" data-ezding=\"ezding\" data-ga=\"['電影頁_時刻表', '電影頁_時刻表_場次', '電影版 地獄少女']\" data-movie=\"c028906b4b334575b46bd4a4aaef6c7b\" data-movie_date=\"03.16\" data-movie_time=\"19:20\" data-movie_title=\"電影版 地獄少女\" data-movie_type=\"數位\" data-session=\"8068843efa4b415dbc3c12307bcfb56c\" data-time=\"1584357600\" id=\"73344251\" name=\"schedule_list\" type=\"radio\" value=\"2020-03-16 19:20:00\"/>\n",
      "<label class=\"select\" for=\"73344251\">19:20</label>\n",
      "<input class=\"gabtn\" data-cinema=\"40288eb0050f542401050f55532606b5\" data-date=\"1584288000\" data-ezding=\"ezding\" data-ga=\"['電影頁_時刻表', '電影頁_時刻表_場次', '電影版 地獄少女']\" data-movie=\"c028906b4b334575b46bd4a4aaef6c7b\" data-movie_date=\"03.16\" data-movie_time=\"23:30\" data-movie_title=\"電影版 地獄少女\" data-movie_type=\"數位\" data-session=\"5c9efa6033ed480dae9c28eb22d77008\" data-time=\"1584372600\" id=\"73344252\" name=\"schedule_list\" type=\"radio\" value=\"2020-03-16 23:30:00\"/>\n",
      "<label class=\"select\" for=\"73344252\">23:30</label>\n",
      "</div>\n",
      "</li>\n",
      "</ul>, <ul class=\"area_time _c jq_area_time\" data-theater_name=\"台北信義威秀影城\" data-theater_schedules=\"https://movies.yahoo.com.tw/theater_result.html/id=45\" data-theater_url=\"http://www.vscinemas.com.tw/\" id=\"theater_id_45\">\n",
      "<li class=\"adds\">\n",
      "<a href=\"https://movies.yahoo.com.tw/theater_result.html/id=45\">台北信義威秀影城</a>\n",
      "<span>02-87805566</span>\n",
      "</li>\n",
      "<li class=\"taps\">\n",
      "<span class=\"tapR\">數位</span> </li>\n",
      "<li class=\"time _c\">\n",
      "<div class=\"input_picker jq_input_picker\">\n",
      "<input class=\"gabtn\" data-cinema=\"40288eb0050f542401050f554e7e0674\" data-date=\"1584288000\" data-ezding=\"ezding\" data-ga=\"['電影頁_時刻表', '電影頁_時刻表_場次', '電影版 地獄少女']\" data-movie=\"2bc7ef5cbff64f39906667dfcbd1a238\" data-movie_date=\"03.16\" data-movie_time=\"12:50\" data-movie_title=\"電影版 地獄少女\" data-movie_type=\"數位\" data-session=\"66a9197e893e47b2aa3968056f030bf2\" data-time=\"1584334200\" id=\"73331630\" name=\"schedule_list\" type=\"radio\" value=\"2020-03-16 12:50:00\"/>\n",
      "<label class=\"select\" for=\"73331630\">12:50</label>\n",
      "<input class=\"gabtn\" data-cinema=\"40288eb0050f542401050f554e7e0674\" data-date=\"1584288000\" data-ezding=\"ezding\" data-ga=\"['電影頁_時刻表', '電影頁_時刻表_場次', '電影版 地獄少女']\" data-movie=\"2bc7ef5cbff64f39906667dfcbd1a238\" data-movie_date=\"03.16\" data-movie_time=\"17:00\" data-movie_title=\"電影版 地獄少女\" data-movie_type=\"數位\" data-session=\"f8f39beccbfc44f6a0c0105641868ec6\" data-time=\"1584349200\" id=\"73331631\" name=\"schedule_list\" type=\"radio\" value=\"2020-03-16 17:00:00\"/>\n",
      "<label class=\"select\" for=\"73331631\">17:00</label>\n",
      "<input class=\"gabtn\" data-cinema=\"40288eb0050f542401050f554e7e0674\" data-date=\"1584288000\" data-ezding=\"ezding\" data-ga=\"['電影頁_時刻表', '電影頁_時刻表_場次', '電影版 地獄少女']\" data-movie=\"2bc7ef5cbff64f39906667dfcbd1a238\" data-movie_date=\"03.16\" data-movie_time=\"21:10\" data-movie_title=\"電影版 地獄少女\" data-movie_type=\"數位\" data-session=\"e6471970c5274fa585ff1d53a6ecea6f\" data-time=\"1584364200\" id=\"73331632\" name=\"schedule_list\" type=\"radio\" value=\"2020-03-16 21:10:00\"/>\n",
      "<label class=\"select\" for=\"73331632\">21:10</label>\n",
      "</div>\n",
      "</li>\n",
      "</ul>, <ul class=\"area_time _c jq_area_time\" data-theater_name=\"喜樂時代影城南港店\" data-theater_schedules=\"https://movies.yahoo.com.tw/theater_result.html/id=186\" data-theater_url=\"http://www.centuryasia.com.tw/default.aspx\" id=\"theater_id_186\">\n",
      "<li class=\"adds\">\n",
      "<a href=\"https://movies.yahoo.com.tw/theater_result.html/id=186\">喜樂時代影城南港店</a>\n",
      "<span>02-27888185</span>\n",
      "</li>\n",
      "<li class=\"taps\">\n",
      "<span class=\"tapR\">數位</span> </li>\n",
      "<li class=\"time _c\">\n",
      "<div class=\"input_picker jq_input_picker\">\n",
      "<input class=\"gabtn\" data-cinema=\"40288eb0050f542401050f5681782dc5\" data-date=\"1584288000\" data-ezding=\"ezding\" data-ga=\"['電影頁_時刻表', '電影頁_時刻表_場次', '電影版 地獄少女']\" data-movie=\"450278c100f6495bb583a19d955ef1e2\" data-movie_date=\"03.16\" data-movie_time=\"15:00\" data-movie_title=\"電影版 地獄少女\" data-movie_type=\"數位\" data-session=\"91e5f378ad8543dd810ab22410eba2d0\" data-time=\"1584342000\" id=\"73335691\" name=\"schedule_list\" type=\"radio\" value=\"2020-03-16 15:00:00\"/>\n",
      "<label class=\"select\" for=\"73335691\">15:00</label>\n",
      "<input class=\"gabtn\" data-cinema=\"40288eb0050f542401050f5681782dc5\" data-date=\"1584288000\" data-ezding=\"ezding\" data-ga=\"['電影頁_時刻表', '電影頁_時刻表_場次', '電影版 地獄少女']\" data-movie=\"450278c100f6495bb583a19d955ef1e2\" data-movie_date=\"03.16\" data-movie_time=\"17:05\" data-movie_title=\"電影版 地獄少女\" data-movie_type=\"數位\" data-session=\"53a5115c59af4cd584a62597d81f9cd9\" data-time=\"1584349500\" id=\"73335692\" name=\"schedule_list\" type=\"radio\" value=\"2020-03-16 17:05:00\"/>\n",
      "<label class=\"select\" for=\"73335692\">17:05</label>\n",
      "<input class=\"gabtn\" data-cinema=\"40288eb0050f542401050f5681782dc5\" data-date=\"1584288000\" data-ezding=\"ezding\" data-ga=\"['電影頁_時刻表', '電影頁_時刻表_場次', '電影版 地獄少女']\" data-movie=\"450278c100f6495bb583a19d955ef1e2\" data-movie_date=\"03.16\" data-movie_time=\"19:10\" data-movie_title=\"電影版 地獄少女\" data-movie_type=\"數位\" data-session=\"0b641538df69463b9a0d67d5bb85338b\" data-time=\"1584357000\" id=\"73335693\" name=\"schedule_list\" type=\"radio\" value=\"2020-03-16 19:10:00\"/>\n",
      "<label class=\"select\" for=\"73335693\">19:10</label>\n",
      "<input class=\"gabtn\" data-cinema=\"40288eb0050f542401050f5681782dc5\" data-date=\"1584288000\" data-ezding=\"ezding\" data-ga=\"['電影頁_時刻表', '電影頁_時刻表_場次', '電影版 地獄少女']\" data-movie=\"450278c100f6495bb583a19d955ef1e2\" data-movie_date=\"03.16\" data-movie_time=\"21:15\" data-movie_title=\"電影版 地獄少女\" data-movie_type=\"數位\" data-session=\"7bcd5922614c41be843f49e1081fff69\" data-time=\"1584364500\" id=\"73335694\" name=\"schedule_list\" type=\"radio\" value=\"2020-03-16 21:15:00\"/>\n",
      "<label class=\"select\" for=\"73335694\">21:15</label>\n",
      "</div>\n",
      "</li>\n",
      "</ul>]\n"
     ]
    }
   ],
   "source": [
    "# 向網站發送請求，獲取上映的電影院及時間資訊\n",
    "url = \"https://movies.yahoo.com.tw/ajax/pc/get_schedule_by_movie\"\n",
    "payload = {'movie_id':str(movie_id),\n",
    "           'date':date,\n",
    "           'area_id':str(area_id),\n",
    "           'theater_id':'',\n",
    "           'datetime':'',\n",
    "           'movie_type_id':''}\n",
    "\n",
    "resp = requests.get(url, params=payload)\n",
    "#print(resp.json()['view'])  # 若有需要，列印出json原始碼\n",
    "\n",
    "soup = BeautifulSoup(resp.json()['view'], 'lxml')\n",
    "html = soup.find_all(\"ul\", attrs={'data-theater_name':re.compile(\".*\")})\n",
    "print(html)"
   ]
  },
  {
   "cell_type": "code",
   "execution_count": 52,
   "metadata": {},
   "outputs": [
    {
     "name": "stdout",
     "output_type": "stream",
     "text": [
      "電影院名稱: 台北樂聲影城\n",
      "影片放映類型: 數位\n",
      "時間表: 2020-03-16 16:15:00\n",
      "影片放映類型: 數位\n",
      "時間表: 2020-03-16 20:15:00\n",
      "影片放映類型: 數位\n",
      "時間表: 2020-03-16 22:25:00\n",
      "電影院名稱: 喜滿客絕色影城\n",
      "影片放映類型: 數位\n",
      "時間表: 2020-03-16 11:00:00\n",
      "影片放映類型: 數位\n",
      "時間表: 2020-03-16 15:10:00\n",
      "影片放映類型: 數位\n",
      "時間表: 2020-03-16 19:20:00\n",
      "影片放映類型: 數位\n",
      "時間表: 2020-03-16 23:30:00\n",
      "電影院名稱: 台北信義威秀影城\n",
      "影片放映類型: 數位\n",
      "時間表: 2020-03-16 12:50:00\n",
      "影片放映類型: 數位\n",
      "時間表: 2020-03-16 17:00:00\n",
      "影片放映類型: 數位\n",
      "時間表: 2020-03-16 21:10:00\n",
      "電影院名稱: 喜樂時代影城南港店\n",
      "影片放映類型: 數位\n",
      "時間表: 2020-03-16 15:00:00\n",
      "影片放映類型: 數位\n",
      "時間表: 2020-03-16 17:05:00\n",
      "影片放映類型: 數位\n",
      "時間表: 2020-03-16 19:10:00\n",
      "影片放映類型: 數位\n",
      "時間表: 2020-03-16 21:15:00\n"
     ]
    }
   ],
   "source": [
    "'''\n",
    "\n",
    "  試著從上一步驟回傳的電影院資料中，擷取電影院名稱、影片放映類型以及時間表\n",
    "\n",
    "'''\n",
    "for u in html:\n",
    "    print(\"電影院名稱:\",u[\"data-theater_name\"])\n",
    "    soup1 = BeautifulSoup(str(u), \"html.parser\")\n",
    "    movies = soup1.find_all(\"input\", attrs={'class':'gabtn'})\n",
    "    for m in movies:\n",
    "        print(\"影片放映類型:\",m[\"data-movie_type\"])\n",
    "        print(\"時間表:\",m[\"value\"])"
   ]
  },
  {
   "cell_type": "code",
   "execution_count": null,
   "metadata": {},
   "outputs": [],
   "source": []
  }
 ],
 "metadata": {
  "kernelspec": {
   "display_name": "Python 3",
   "language": "python",
   "name": "python3"
  },
  "language_info": {
   "codemirror_mode": {
    "name": "ipython",
    "version": 3
   },
   "file_extension": ".py",
   "mimetype": "text/x-python",
   "name": "python",
   "nbconvert_exporter": "python",
   "pygments_lexer": "ipython3",
   "version": "3.7.4"
  }
 },
 "nbformat": 4,
 "nbformat_minor": 4
}
